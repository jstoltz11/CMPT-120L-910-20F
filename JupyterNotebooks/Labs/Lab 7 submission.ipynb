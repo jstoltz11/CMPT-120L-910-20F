{
 "metadata": {
  "language_info": {
   "codemirror_mode": {
    "name": "ipython",
    "version": 3
   },
   "file_extension": ".py",
   "mimetype": "text/x-python",
   "name": "python",
   "nbconvert_exporter": "python",
   "pygments_lexer": "ipython3",
   "version": "3.7.9-final"
  },
  "orig_nbformat": 2,
  "kernelspec": {
   "name": "Python 3.7.9 32-bit",
   "display_name": "Python 3.7.9 32-bit",
   "metadata": {
    "interpreter": {
     "hash": "1a9667a2bb9d96dc270e76262e3a3f1172ebb8237433ca308c5327ae03dcaa04"
    }
   }
  }
 },
 "nbformat": 4,
 "nbformat_minor": 2,
 "cells": [
  {
   "cell_type": "code",
   "execution_count": 5,
   "metadata": {},
   "outputs": [
    {
     "output_type": "stream",
     "name": "stdout",
     "text": [
      "Python is the 🐐\nBugs in code make me :pouting_face:\nI forsee a lot of 📊 in my future\n:pizza: is my favorite comfort food.\n"
     ]
    }
   ],
   "source": [
    "import emoji\n",
    "\n",
    "print(emoji.emojize('Python is the :goat:'))\n",
    "print(emoji.demojize('Bugs in code make me 😡'))\n",
    "print(emoji.emojize('I forsee a lot of :bar_chart: in my future'))\n",
    "print(emoji.demojize('🍕 is my favorite comfort food.'))"
   ]
  }
 ]
}