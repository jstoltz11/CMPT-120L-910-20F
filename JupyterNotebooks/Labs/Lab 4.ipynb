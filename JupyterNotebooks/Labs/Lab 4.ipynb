{
 "metadata": {
  "language_info": {
   "codemirror_mode": {
    "name": "ipython",
    "version": 3
   },
   "file_extension": ".py",
   "mimetype": "text/x-python",
   "name": "python",
   "nbconvert_exporter": "python",
   "pygments_lexer": "ipython3",
   "version": 3
  },
  "orig_nbformat": 2,
  "kernelspec": {
   "name": "python_defaultSpec_1601314446145",
   "display_name": "Python 3.7.9 32-bit"
  }
 },
 "nbformat": 4,
 "nbformat_minor": 2,
 "cells": [
  {
   "source": [
    "# Lab Four\n",
    "---\n",
    "\n",
    "For this lab we're going to be messing around with Markdown!\n",
    "\n",
    "Our Goals are:\n",
    "- Using Markdown!\n",
    "\n",
    "I want you to describe to me your process of converting the assignment and making it DRY. \n",
    "\n",
    "Please show the ability to:\n",
    "- Make a header\n",
    "- Make a list (ordered or unordered)\n",
    "- Link the Markdown Guide from the lesson. \n",
    "- Artuculate your thought process."
   ],
   "cell_type": "code",
   "metadata": {},
   "execution_count": null,
   "outputs": []
  },
  {
   "source": [
    "# Assignment 5 Review\n",
    "---\n",
    "\n",
    "(This document was created with the tools found [here](https://www.markdownguide.org/getting-started/).)\n",
    "\n",
    "The goals for this exercise were:\n",
    "- Review the given code\n",
    "- Analyze for redundancies/simplification\n",
    "- Implement changes to DRY it out.\n",
    "\n",
    "After reading the instruction and looking at the code for a little, my first thought was of defining a couple of additional functions for use in our main function. I spent some time trying to figure out what variables or modifiers to use in these other functions. Upon further contemplation I realized the whole thing boiled down to applying stipulations to items in a list. This led me to develop a 'for' loop and apply the instructions based on the positive or negative values."
   ],
   "cell_type": "markdown",
   "metadata": {}
  }
 ]
}