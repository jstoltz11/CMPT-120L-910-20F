{
 "metadata": {
  "language_info": {
   "codemirror_mode": {
    "name": "ipython",
    "version": 3
   },
   "file_extension": ".py",
   "mimetype": "text/x-python",
   "name": "python",
   "nbconvert_exporter": "python",
   "pygments_lexer": "ipython3",
   "version": "3.7.9-final"
  },
  "orig_nbformat": 2,
  "kernelspec": {
   "name": "python_defaultSpec_1600119509368",
   "display_name": "Python 3.7.9 32-bit"
  }
 },
 "nbformat": 4,
 "nbformat_minor": 2,
 "cells": [
  {
   "cell_type": "markdown",
   "metadata": {},
   "source": [
    "# Lab Two\n",
    "---\n",
    "\n",
    "For this lab we're going to get into logic\n",
    "\n",
    "Our Goals are:\n",
    "- Using Conditionals\n",
    "- Using Loops\n",
    "- Creating a Function\n",
    "- Using a Class"
   ]
  },
  {
   "cell_type": "code",
   "execution_count": 67,
   "metadata": {
    "tags": []
   },
   "outputs": [
    {
     "output_type": "stream",
     "name": "stdout",
     "text": "Halo is the best video game series of all time.\n"
    }
   ],
   "source": [
    "# Create an if statement\n",
    "\n",
    "i_like_halo = True\n",
    "\n",
    "if i_like_halo:\n",
    "    print(\"Halo is the best video game series of all time.\")"
   ]
  },
  {
   "cell_type": "code",
   "execution_count": 68,
   "metadata": {
    "tags": []
   },
   "outputs": [
    {
     "output_type": "stream",
     "name": "stdout",
     "text": "You need to reevaluate your life.\n"
    }
   ],
   "source": [
    "# Create an if else statement\n",
    "\n",
    "you_like_halo = False\n",
    "\n",
    "if you_like_halo:\n",
    "    print(\"I see you are cultured as well.\")\n",
    "\n",
    "else:\n",
    "    print(\"You need to reevaluate your life.\")"
   ]
  },
  {
   "cell_type": "code",
   "execution_count": 69,
   "metadata": {
    "tags": []
   },
   "outputs": [
    {
     "output_type": "stream",
     "name": "stdout",
     "text": "Maybe one day...\n"
    }
   ],
   "source": [
    "# Create an if elif else statement\n",
    "\n",
    "vikings_have_superbowl_win = False\n",
    "packers_are_overrated = True\n",
    "vikings_are_cooler = True\n",
    "\n",
    "if vikings_have_superbowl_win:\n",
    "    print(\"We're not cursed!\")\n",
    "elif packers_are_overrated and vikings_are_cooler:\n",
    "    print(\"Maybe one day...\")\n",
    "else:\n",
    "    print(\"I live in constant dissappointment.\")"
   ]
  },
  {
   "source": [
    "# Create a for loop using range(). Go from 0 to 9. Print out each number.\n",
    "\n",
    "for value in range(10):\n",
    "    print(value)"
   ],
   "cell_type": "code",
   "metadata": {
    "tags": []
   },
   "execution_count": 70,
   "outputs": [
    {
     "output_type": "stream",
     "name": "stdout",
     "text": "0\n1\n2\n3\n4\n5\n6\n7\n8\n9\n"
    }
   ]
  },
  {
   "cell_type": "code",
   "execution_count": 71,
   "metadata": {
    "tags": []
   },
   "outputs": [
    {
     "output_type": "stream",
     "name": "stdout",
     "text": "Blue\nYellow\nRed\nGreen\nPurple\nMagenta\nLilac\n7\n"
    }
   ],
   "source": [
    "# Create a for loop iterating through this list and printing out the value.\n",
    "arr = ['Blue', 'Yellow', 'Red', 'Green', 'Purple', 'Magenta', 'Lilac']\n",
    "\n",
    "# Get the length of the list above and print it.\n",
    "\n",
    "for items in arr:\n",
    "    print(items)\n",
    "\n",
    "\n",
    "print(len(arr))"
   ]
  },
  {
   "cell_type": "code",
   "execution_count": 72,
   "metadata": {
    "tags": []
   },
   "outputs": [
    {
     "output_type": "stream",
     "name": "stdout",
     "text": "You gotta keep going.\nYou gotta keep going.\nYou gotta keep going.\nYou gotta keep going.\nYou gotta keep going.\nYou gotta keep going.\nYou made it!\n"
    }
   ],
   "source": [
    "# Create a while loop that ends after 6 times through. Print something for each pass.\n",
    "\n",
    "start = 0\n",
    "finish = 6\n",
    "\n",
    "while start != finish:\n",
    "    print(\"You gotta keep going.\")\n",
    "    start += 1\n",
    "else:   \n",
    "    print(\"You made it!\")\n",
    "    "
   ]
  },
  {
   "source": [
    "# Create a function to add 2 numbers together. Print out the number\n",
    "\n",
    "import random\n",
    "\n",
    "arr = [1, 2, 3, 4, 5, 6, 7, 8, 9]\n",
    "\n",
    "for values in arr:\n",
    "    print(random.choice(arr) + random.choice(arr))"
   ],
   "cell_type": "code",
   "metadata": {
    "tags": []
   },
   "execution_count": 73,
   "outputs": [
    {
     "output_type": "stream",
     "name": "stdout",
     "text": "10\n14\n4\n10\n14\n3\n10\n4\n2\n"
    }
   ]
  },
  {
   "cell_type": "code",
   "execution_count": 74,
   "metadata": {
    "tags": []
   },
   "outputs": [
    {
     "output_type": "stream",
     "name": "stdout",
     "text": "0: This number is even.\n1: This number is odd.\n2: This number is even.\n3: This number is odd.\n4: This number is even.\n5: This number is odd.\n6: This number is even.\n7: This number is odd.\n8: This number is even.\n9: This number is odd.\n10: This number is even.\n11: This number is odd.\n12: This number is even.\n13: This number is odd.\n14: This number is even.\n15: This number is odd.\n16: This number is even.\n17: This number is odd.\n18: This number is even.\n19: This number is odd.\n"
    }
   ],
   "source": [
    "# Create a function that tells you if a number is odd or even and print the result.\n",
    "\n",
    "for items in range(20):\n",
    "    if items % 2 == 0:\n",
    "        print(str(items) + \": This number is even.\")\n",
    "    elif items % 2 == 1:\n",
    "        print(str(items) + \": This number is odd.\")\n",
    "\n",
    "    "
   ]
  },
  {
   "cell_type": "code",
   "execution_count": 77,
   "metadata": {
    "tags": []
   },
   "outputs": [
    {
     "output_type": "stream",
     "name": "stdout",
     "text": "Name: Bub\nWeight: 90 Pounds\nHeight: 34 Inches\nBreed: lab\n"
    }
   ],
   "source": [
    "# Initialize an instance of the following class. Use a variable to store the object and then call the info function to print out the attributes.\n",
    "class Dog(object):\n",
    "    def __init__(self, name: str, height: int, weight: int, breed: str):\n",
    "        self.name = name\n",
    "        self.height = height\n",
    "        self.weight = weight\n",
    "        self.breed = breed\n",
    "\n",
    "    def info(self):\n",
    "        print(\"Name:\", self.name)\n",
    "        print(\"Weight:\", str(self.weight) + \" Pounds\")\n",
    "        print(\"Height:\", str(self.height) + \" Inches\")\n",
    "        print(\"Breed:\", self.breed)\n",
    "\n",
    "if __name__ == \"__main__\":\n",
    "    Bub = Dog(\"Bub\", 34, 90, \"lab\")\n",
    "    Bub.info()\n",
    "    "
   ]
  },
  {
   "cell_type": "code",
   "execution_count": null,
   "metadata": {},
   "outputs": [],
   "source": []
  }
 ]
}