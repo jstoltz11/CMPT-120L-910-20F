{
 "metadata": {
  "language_info": {
   "codemirror_mode": {
    "name": "ipython",
    "version": 3
   },
   "file_extension": ".py",
   "mimetype": "text/x-python",
   "name": "python",
   "nbconvert_exporter": "python",
   "pygments_lexer": "ipython3",
   "version": "3.8.5-final"
  },
  "orig_nbformat": 2,
  "kernelspec": {
   "name": "python_defaultSpec_1599341546523",
   "display_name": "Python 3.8.5 32-bit"
  }
 },
 "nbformat": 4,
 "nbformat_minor": 2,
 "cells": [
  {
   "cell_type": "markdown",
   "metadata": {},
   "source": [
    "# Lab One\n",
    "---\n",
    "\n",
    "Ok for this lab we're going to reiterate a lot of the things that we went over in class.\n",
    "\n",
    "Our Goals are:\n",
    "- Defining variables\n",
    "- Using math\n",
    "- Manipulating variables\n",
    "- Changing data types\n",
    "- Playing with lists"
   ]
  },
  {
   "cell_type": "code",
   "execution_count": 1,
   "metadata": {
    "tags": []
   },
   "outputs": [
    {
     "output_type": "stream",
     "name": "stdout",
     "text": "9 9/5/20 False 0.25\n"
    }
   ],
   "source": [
    "# Define 4 variables, one of each type listed: [Integer, String, Boolean, Float]. Print all 4.\n",
    "\n",
    "dollars = 9\n",
    "\n",
    "date = \"9/5/20\"\n",
    "\n",
    "is_wealthy = False\n",
    "\n",
    "quarter = .25\n",
    "\n",
    "print(dollars, date, is_wealthy, quarter)"
   ]
  },
  {
   "cell_type": "code",
   "execution_count": 3,
   "metadata": {
    "tags": []
   },
   "outputs": [
    {
     "output_type": "stream",
     "name": "stdout",
     "text": "0.06\n0.15\n2\n2.25\n0.05\n"
    }
   ],
   "source": [
    "# With whatever variables you'd like demonstrate the following: [Addition, Subtraction, Division, Multiplication, Modulo]. Print all 5.\n",
    "\n",
    "dime = .1\n",
    "nickel = .05\n",
    "penny = .01\n",
    "\n",
    "print(round(nickel + penny, 2))\n",
    "\n",
    "print(quarter - dime)\n",
    "\n",
    "print(round(dime / nickel))\n",
    "\n",
    "print(round(quarter * dollars, 2))\n",
    "\n",
    "print(round(quarter % dime, 2))"
   ]
  },
  {
   "cell_type": "code",
   "execution_count": 1,
   "metadata": {
    "tags": []
   },
   "outputs": [
    {
     "output_type": "stream",
     "name": "stdout",
     "text": "57\n"
    }
   ],
   "source": [
    "# Using 2 variables and addition print the number 57\n",
    "\n",
    "pennies = 7\n",
    "dimes = 5\n",
    "\n",
    "print(pennies + (dimes * 10))"
   ]
  },
  {
   "cell_type": "code",
   "execution_count": 1,
   "metadata": {
    "tags": []
   },
   "outputs": [
    {
     "output_type": "stream",
     "name": "stdout",
     "text": "37\n<class 'str'>\n10\n<class 'int'>\n299.99\n<class 'float'>\nTrue\n<class 'bool'>\n"
    }
   ],
   "source": [
    "# Change this variable to a string and print\n",
    "number_into_string = 37\n",
    "# Change this variable to a integer and print\n",
    "string_into_number = '10'\n",
    "# Change this variable to a float and print\n",
    "string_into_float = '299.99'\n",
    "# Change this variable to a boolean and print\n",
    "number_into_boolean = 37\n",
    "\n",
    "number_into_string = str(number_into_string)\n",
    "print(number_into_string)\n",
    "print(type(number_into_string))\n",
    "\n",
    "string_into_number = int(string_into_number)\n",
    "print(string_into_number)\n",
    "print(type(string_into_number))\n",
    "\n",
    "string_into_float = float(string_into_float)\n",
    "print(string_into_float)\n",
    "print(type(string_into_float))\n",
    "\n",
    "number_into_boolean = bool(number_into_boolean)\n",
    "print(number_into_boolean)\n",
    "print(type(number_into_boolean))"
   ]
  },
  {
   "cell_type": "code",
   "execution_count": 89,
   "metadata": {
    "tags": []
   },
   "outputs": [
    {
     "output_type": "stream",
     "name": "stdout",
     "text": "['cheese', 'pepperoni', 'supreme', 'meat lovers', 'stuffed crust', 'veggie', 'buffalo chicken']\n"
    }
   ],
   "source": [
    "# Make me a list of any type\n",
    "\n",
    "pizzatypes = [\"cheese\", \"pepperoni\", \"supreme\", \"meat lovers\", \"stuffed crust\", \"veggie\", \"buffalo chicken\"]\n",
    "print(pizzatypes)"
   ]
  },
  {
   "cell_type": "code",
   "execution_count": null,
   "metadata": {},
   "outputs": [],
   "source": []
  }
 ]
}